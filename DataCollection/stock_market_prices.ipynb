{
 "cells": [
  {
   "cell_type": "code",
   "execution_count": 2,
   "metadata": {},
   "outputs": [],
   "source": [
    "from tools.finance_scrabing import * # import all functions from finance_scrabing.py \n",
    "import pandas as pd\n",
    "\n",
    "%reload_ext autoreload\n",
    "%autoreload 2"
   ]
  },
  {
   "cell_type": "markdown",
   "metadata": {},
   "source": [
    "## Stock Market Names and Time Interval"
   ]
  },
  {
   "cell_type": "code",
   "execution_count": 25,
   "metadata": {},
   "outputs": [],
   "source": [
    "stock_names = [\n",
    "    \"ASTOR\",\n",
    "    \"ENJSA\",\n",
    "    \"TCELL\",\n",
    "    \"TTKOM\",\n",
    "    \"OYAKC\",\n",
    "    \"KONYA\",\n",
    "    \"YBTAS\",\n",
    "    \"EREGL\",\n",
    "    \"KRDMD\",\n",
    "    \"TOASO\",\n",
    "    \"FROTO\",\n",
    "    \"BIMAS\",\n",
    "    \"SOKM\",\n",
    "    \"ARCLK\",\n",
    "    \"VESTL\",\n",
    "    \"THYAO\",\n",
    "    \"PGSUS\"\n",
    "]\n",
    "initial_date = '31-08-2023' \n",
    "end_date = '30-09-2023' \n",
    "frequency = '1g'\n",
    "\n",
    "stock_market = \"ARCLK\" "
   ]
  },
  {
   "cell_type": "markdown",
   "metadata": {},
   "source": [
    "## Getting All Stock Market Prices as Whole Dataset"
   ]
  },
  {
   "cell_type": "code",
   "execution_count": 10,
   "metadata": {},
   "outputs": [],
   "source": [
    "actual_df = get_stock_price_changes(stock_names, initial_date, end_date, frequency, save=True) # get stock price changes"
   ]
  },
  {
   "cell_type": "code",
   "execution_count": 11,
   "metadata": {},
   "outputs": [],
   "source": [
    "actual_df.to_csv(\"stock_market_prices_all.csv\") # save stock price changes to csv file"
   ]
  },
  {
   "cell_type": "code",
   "execution_count": 26,
   "metadata": {},
   "outputs": [],
   "source": [
    "new_dfs = []\n",
    "for i in stock_names:\n",
    "    df = pd.read_csv(f\"stock_prices/{i}.csv\")\n",
    "    new_dfs.append(df) # read all csv files and append them to new_dfs list"
   ]
  },
  {
   "cell_type": "code",
   "execution_count": 22,
   "metadata": {},
   "outputs": [],
   "source": [
    "dates = actual_df[\"Date\"].unique() # get unique dates from actual_df"
   ]
  },
  {
   "cell_type": "markdown",
   "metadata": {},
   "source": [
    "## Saving Daily Data"
   ]
  },
  {
   "cell_type": "code",
   "execution_count": 27,
   "metadata": {},
   "outputs": [],
   "source": [
    "dfs_date = []\n",
    "for i in dates:\n",
    "    df = pd.DataFrame()\n",
    "    for j, n_df in enumerate(new_dfs):\n",
    "        if i in n_df[\"Date\"].values:\n",
    "            df_tmp = n_df[n_df[\"Date\"] == i][[\"Stock_Code\",\"Change_Status\",\"Date\"]]\n",
    "            df = pd.concat([df, df_tmp])\n",
    "    df.to_csv(f\"daily_changes/{i}.csv\", index=False)\n",
    "    dfs_date.append(df) # get daily changes for each stock"
   ]
  }
 ],
 "metadata": {
  "kernelspec": {
   "display_name": "base",
   "language": "python",
   "name": "python3"
  },
  "language_info": {
   "codemirror_mode": {
    "name": "ipython",
    "version": 3
   },
   "file_extension": ".py",
   "mimetype": "text/x-python",
   "name": "python",
   "nbconvert_exporter": "python",
   "pygments_lexer": "ipython3",
   "version": "3.9.13"
  }
 },
 "nbformat": 4,
 "nbformat_minor": 2
}
